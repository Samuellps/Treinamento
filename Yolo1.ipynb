{
  "cells": [
    {
      "cell_type": "markdown",
      "metadata": {
        "id": "view-in-github",
        "colab_type": "text"
      },
      "source": [
        "<a href=\"https://colab.research.google.com/github/Samuellps/Treinamento/blob/main/Yolo1.ipynb\" target=\"_parent\"><img src=\"https://colab.research.google.com/assets/colab-badge.svg\" alt=\"Open In Colab\"/></a>"
      ]
    },
    {
      "cell_type": "code",
      "execution_count": null,
      "metadata": {
        "colab": {
          "base_uri": "https://localhost:8080/"
        },
        "id": "VvFof0QV9hQm",
        "outputId": "41d66fb2-4b4f-4b80-8e30-b76450503371"
      },
      "outputs": [
        {
          "output_type": "stream",
          "name": "stdout",
          "text": [
            "/content\n"
          ]
        }
      ],
      "source": [
        "#print do diretório que está sendo usado\n",
        "import os\n",
        "HOME = os.getcwd()\n",
        "print(HOME)"
      ]
    },
    {
      "cell_type": "code",
      "execution_count": null,
      "metadata": {
        "colab": {
          "base_uri": "https://localhost:8080/"
        },
        "id": "QVXKD_sEJ0_7",
        "outputId": "c78dbb78-c614-416b-aa59-c28ba70dbc9e"
      },
      "outputs": [
        {
          "metadata": {
            "tags": null
          },
          "name": "stdout",
          "output_type": "stream",
          "text": [
            "Collecting ultralytics\n",
            "  Downloading ultralytics-8.2.28-py3-none-any.whl (779 kB)\n",
            "\u001b[2K     \u001b[90m━━━━━━━━━━━━━━━━━━━━━━━━━━━━━━━━━━━━━━━━\u001b[0m \u001b[32m779.6/779.6 kB\u001b[0m \u001b[31m8.4 MB/s\u001b[0m eta \u001b[36m0:00:00\u001b[0m\n",
            "\u001b[?25hRequirement already satisfied: matplotlib>=3.3.0 in /usr/local/lib/python3.10/dist-packages (from ultralytics) (3.7.1)\n",
            "Requirement already satisfied: opencv-python>=4.6.0 in /usr/local/lib/python3.10/dist-packages (from ultralytics) (4.8.0.76)\n",
            "Requirement already satisfied: pillow>=7.1.2 in /usr/local/lib/python3.10/dist-packages (from ultralytics) (9.4.0)\n",
            "Requirement already satisfied: pyyaml>=5.3.1 in /usr/local/lib/python3.10/dist-packages (from ultralytics) (6.0.1)\n",
            "Requirement already satisfied: requests>=2.23.0 in /usr/local/lib/python3.10/dist-packages (from ultralytics) (2.31.0)\n",
            "Requirement already satisfied: scipy>=1.4.1 in /usr/local/lib/python3.10/dist-packages (from ultralytics) (1.11.4)\n",
            "Requirement already satisfied: torch>=1.8.0 in /usr/local/lib/python3.10/dist-packages (from ultralytics) (2.3.0+cu121)\n",
            "Requirement already satisfied: torchvision>=0.9.0 in /usr/local/lib/python3.10/dist-packages (from ultralytics) (0.18.0+cu121)\n",
            "Requirement already satisfied: tqdm>=4.64.0 in /usr/local/lib/python3.10/dist-packages (from ultralytics) (4.66.4)\n",
            "Requirement already satisfied: psutil in /usr/local/lib/python3.10/dist-packages (from ultralytics) (5.9.5)\n",
            "Requirement already satisfied: py-cpuinfo in /usr/local/lib/python3.10/dist-packages (from ultralytics) (9.0.0)\n",
            "Requirement already satisfied: pandas>=1.1.4 in /usr/local/lib/python3.10/dist-packages (from ultralytics) (2.0.3)\n",
            "Requirement already satisfied: seaborn>=0.11.0 in /usr/local/lib/python3.10/dist-packages (from ultralytics) (0.13.1)\n",
            "Collecting ultralytics-thop>=0.2.5 (from ultralytics)\n",
            "  Downloading ultralytics_thop-0.2.7-py3-none-any.whl (25 kB)\n",
            "Requirement already satisfied: contourpy>=1.0.1 in /usr/local/lib/python3.10/dist-packages (from matplotlib>=3.3.0->ultralytics) (1.2.1)\n",
            "Requirement already satisfied: cycler>=0.10 in /usr/local/lib/python3.10/dist-packages (from matplotlib>=3.3.0->ultralytics) (0.12.1)\n",
            "Requirement already satisfied: fonttools>=4.22.0 in /usr/local/lib/python3.10/dist-packages (from matplotlib>=3.3.0->ultralytics) (4.52.4)\n",
            "Requirement already satisfied: kiwisolver>=1.0.1 in /usr/local/lib/python3.10/dist-packages (from matplotlib>=3.3.0->ultralytics) (1.4.5)\n",
            "Requirement already satisfied: numpy>=1.20 in /usr/local/lib/python3.10/dist-packages (from matplotlib>=3.3.0->ultralytics) (1.25.2)\n",
            "Requirement already satisfied: packaging>=20.0 in /usr/local/lib/python3.10/dist-packages (from matplotlib>=3.3.0->ultralytics) (24.0)\n",
            "Requirement already satisfied: pyparsing>=2.3.1 in /usr/local/lib/python3.10/dist-packages (from matplotlib>=3.3.0->ultralytics) (3.1.2)\n",
            "Requirement already satisfied: python-dateutil>=2.7 in /usr/local/lib/python3.10/dist-packages (from matplotlib>=3.3.0->ultralytics) (2.8.2)\n",
            "Requirement already satisfied: pytz>=2020.1 in /usr/local/lib/python3.10/dist-packages (from pandas>=1.1.4->ultralytics) (2023.4)\n",
            "Requirement already satisfied: tzdata>=2022.1 in /usr/local/lib/python3.10/dist-packages (from pandas>=1.1.4->ultralytics) (2024.1)\n",
            "Requirement already satisfied: charset-normalizer<4,>=2 in /usr/local/lib/python3.10/dist-packages (from requests>=2.23.0->ultralytics) (3.3.2)\n",
            "Requirement already satisfied: idna<4,>=2.5 in /usr/local/lib/python3.10/dist-packages (from requests>=2.23.0->ultralytics) (3.7)\n",
            "Requirement already satisfied: urllib3<3,>=1.21.1 in /usr/local/lib/python3.10/dist-packages (from requests>=2.23.0->ultralytics) (2.0.7)\n",
            "Requirement already satisfied: certifi>=2017.4.17 in /usr/local/lib/python3.10/dist-packages (from requests>=2.23.0->ultralytics) (2024.2.2)\n",
            "Requirement already satisfied: filelock in /usr/local/lib/python3.10/dist-packages (from torch>=1.8.0->ultralytics) (3.14.0)\n",
            "Requirement already satisfied: typing-extensions>=4.8.0 in /usr/local/lib/python3.10/dist-packages (from torch>=1.8.0->ultralytics) (4.12.0)\n",
            "Requirement already satisfied: sympy in /usr/local/lib/python3.10/dist-packages (from torch>=1.8.0->ultralytics) (1.12.1)\n",
            "Requirement already satisfied: networkx in /usr/local/lib/python3.10/dist-packages (from torch>=1.8.0->ultralytics) (3.3)\n",
            "Requirement already satisfied: jinja2 in /usr/local/lib/python3.10/dist-packages (from torch>=1.8.0->ultralytics) (3.1.4)\n",
            "Requirement already satisfied: fsspec in /usr/local/lib/python3.10/dist-packages (from torch>=1.8.0->ultralytics) (2023.6.0)\n",
            "Collecting nvidia-cuda-nvrtc-cu12==12.1.105 (from torch>=1.8.0->ultralytics)\n",
            "  Using cached nvidia_cuda_nvrtc_cu12-12.1.105-py3-none-manylinux1_x86_64.whl (23.7 MB)\n",
            "Collecting nvidia-cuda-runtime-cu12==12.1.105 (from torch>=1.8.0->ultralytics)\n",
            "  Using cached nvidia_cuda_runtime_cu12-12.1.105-py3-none-manylinux1_x86_64.whl (823 kB)\n",
            "Collecting nvidia-cuda-cupti-cu12==12.1.105 (from torch>=1.8.0->ultralytics)\n",
            "  Using cached nvidia_cuda_cupti_cu12-12.1.105-py3-none-manylinux1_x86_64.whl (14.1 MB)\n",
            "Collecting nvidia-cudnn-cu12==8.9.2.26 (from torch>=1.8.0->ultralytics)\n",
            "  Using cached nvidia_cudnn_cu12-8.9.2.26-py3-none-manylinux1_x86_64.whl (731.7 MB)\n",
            "Collecting nvidia-cublas-cu12==12.1.3.1 (from torch>=1.8.0->ultralytics)\n",
            "  Using cached nvidia_cublas_cu12-12.1.3.1-py3-none-manylinux1_x86_64.whl (410.6 MB)\n",
            "Collecting nvidia-cufft-cu12==11.0.2.54 (from torch>=1.8.0->ultralytics)\n",
            "  Using cached nvidia_cufft_cu12-11.0.2.54-py3-none-manylinux1_x86_64.whl (121.6 MB)\n",
            "Collecting nvidia-curand-cu12==10.3.2.106 (from torch>=1.8.0->ultralytics)\n",
            "  Using cached nvidia_curand_cu12-10.3.2.106-py3-none-manylinux1_x86_64.whl (56.5 MB)\n",
            "Collecting nvidia-cusolver-cu12==11.4.5.107 (from torch>=1.8.0->ultralytics)\n",
            "  Using cached nvidia_cusolver_cu12-11.4.5.107-py3-none-manylinux1_x86_64.whl (124.2 MB)\n",
            "Collecting nvidia-cusparse-cu12==12.1.0.106 (from torch>=1.8.0->ultralytics)\n",
            "  Using cached nvidia_cusparse_cu12-12.1.0.106-py3-none-manylinux1_x86_64.whl (196.0 MB)\n",
            "Collecting nvidia-nccl-cu12==2.20.5 (from torch>=1.8.0->ultralytics)\n",
            "  Using cached nvidia_nccl_cu12-2.20.5-py3-none-manylinux2014_x86_64.whl (176.2 MB)\n",
            "Collecting nvidia-nvtx-cu12==12.1.105 (from torch>=1.8.0->ultralytics)\n",
            "  Using cached nvidia_nvtx_cu12-12.1.105-py3-none-manylinux1_x86_64.whl (99 kB)\n",
            "Requirement already satisfied: triton==2.3.0 in /usr/local/lib/python3.10/dist-packages (from torch>=1.8.0->ultralytics) (2.3.0)\n",
            "Collecting nvidia-nvjitlink-cu12 (from nvidia-cusolver-cu12==11.4.5.107->torch>=1.8.0->ultralytics)\n",
            "  Downloading nvidia_nvjitlink_cu12-12.5.40-py3-none-manylinux2014_x86_64.whl (21.3 MB)\n",
            "\u001b[2K     \u001b[90m━━━━━━━━━━━━━━━━━━━━━━━━━━━━━━━━━━━━━━━━\u001b[0m \u001b[32m21.3/21.3 MB\u001b[0m \u001b[31m68.5 MB/s\u001b[0m eta \u001b[36m0:00:00\u001b[0m\n",
            "\u001b[?25hRequirement already satisfied: six>=1.5 in /usr/local/lib/python3.10/dist-packages (from python-dateutil>=2.7->matplotlib>=3.3.0->ultralytics) (1.16.0)\n",
            "Requirement already satisfied: MarkupSafe>=2.0 in /usr/local/lib/python3.10/dist-packages (from jinja2->torch>=1.8.0->ultralytics) (2.1.5)\n",
            "Requirement already satisfied: mpmath<1.4.0,>=1.1.0 in /usr/local/lib/python3.10/dist-packages (from sympy->torch>=1.8.0->ultralytics) (1.3.0)\n",
            "Installing collected packages: nvidia-nvtx-cu12, nvidia-nvjitlink-cu12, nvidia-nccl-cu12, nvidia-curand-cu12, nvidia-cufft-cu12, nvidia-cuda-runtime-cu12, nvidia-cuda-nvrtc-cu12, nvidia-cuda-cupti-cu12, nvidia-cublas-cu12, nvidia-cusparse-cu12, nvidia-cudnn-cu12, nvidia-cusolver-cu12, ultralytics-thop, ultralytics\n",
            "Successfully installed nvidia-cublas-cu12-12.1.3.1 nvidia-cuda-cupti-cu12-12.1.105 nvidia-cuda-nvrtc-cu12-12.1.105 nvidia-cuda-runtime-cu12-12.1.105 nvidia-cudnn-cu12-8.9.2.26 nvidia-cufft-cu12-11.0.2.54 nvidia-curand-cu12-10.3.2.106 nvidia-cusolver-cu12-11.4.5.107 nvidia-cusparse-cu12-12.1.0.106 nvidia-nccl-cu12-2.20.5 nvidia-nvjitlink-cu12-12.5.40 nvidia-nvtx-cu12-12.1.105 ultralytics-8.2.28 ultralytics-thop-0.2.7\n"
          ]
        }
      ],
      "source": [
        "#importação do yolo\n",
        "!pip install ultralytics\n",
        "from ultralytics import YOLO\n",
        "\n",
        "#teste com foto de um cachorro kkkk\n",
        "model = YOLO('yolov8n.pt')\n",
        "model.predict(\n",
        "   source='https://media.roboflow.com/notebooks/examples/dog.jpeg',\n",
        "   conf=0.25\n",
        ")"
      ]
    },
    {
      "cell_type": "code",
      "execution_count": null,
      "metadata": {
        "colab": {
          "base_uri": "https://localhost:8080/",
          "height": 1000
        },
        "id": "DPmZqi1EKLkw",
        "outputId": "0497d2df-9433-413b-9559-5e6158db5f91"
      },
      "outputs": [
        {
          "output_type": "stream",
          "name": "stdout",
          "text": [
            "Collecting roboflow\n",
            "  Downloading roboflow-1.1.30-py3-none-any.whl (75 kB)\n",
            "\u001b[2K     \u001b[90m━━━━━━━━━━━━━━━━━━━━━━━━━━━━━━━━━━━━━━━━\u001b[0m \u001b[32m75.5/75.5 kB\u001b[0m \u001b[31m5.0 MB/s\u001b[0m eta \u001b[36m0:00:00\u001b[0m\n",
            "\u001b[?25hCollecting certifi==2023.7.22 (from roboflow)\n",
            "  Downloading certifi-2023.7.22-py3-none-any.whl (158 kB)\n",
            "\u001b[2K     \u001b[90m━━━━━━━━━━━━━━━━━━━━━━━━━━━━━━━━━━━━━━━━\u001b[0m \u001b[32m158.3/158.3 kB\u001b[0m \u001b[31m6.5 MB/s\u001b[0m eta \u001b[36m0:00:00\u001b[0m\n",
            "\u001b[?25hCollecting chardet==4.0.0 (from roboflow)\n",
            "  Downloading chardet-4.0.0-py2.py3-none-any.whl (178 kB)\n",
            "\u001b[2K     \u001b[90m━━━━━━━━━━━━━━━━━━━━━━━━━━━━━━━━━━━━━━━━\u001b[0m \u001b[32m178.7/178.7 kB\u001b[0m \u001b[31m5.5 MB/s\u001b[0m eta \u001b[36m0:00:00\u001b[0m\n",
            "\u001b[?25hCollecting cycler==0.10.0 (from roboflow)\n",
            "  Downloading cycler-0.10.0-py2.py3-none-any.whl (6.5 kB)\n",
            "Collecting idna==2.10 (from roboflow)\n",
            "  Downloading idna-2.10-py2.py3-none-any.whl (58 kB)\n",
            "\u001b[2K     \u001b[90m━━━━━━━━━━━━━━━━━━━━━━━━━━━━━━━━━━━━━━━━\u001b[0m \u001b[32m58.8/58.8 kB\u001b[0m \u001b[31m8.3 MB/s\u001b[0m eta \u001b[36m0:00:00\u001b[0m\n",
            "\u001b[?25hRequirement already satisfied: kiwisolver>=1.3.1 in /usr/local/lib/python3.10/dist-packages (from roboflow) (1.4.5)\n",
            "Requirement already satisfied: matplotlib in /usr/local/lib/python3.10/dist-packages (from roboflow) (3.7.1)\n",
            "Requirement already satisfied: numpy>=1.18.5 in /usr/local/lib/python3.10/dist-packages (from roboflow) (1.25.2)\n",
            "Collecting opencv-python-headless==4.8.0.74 (from roboflow)\n",
            "  Downloading opencv_python_headless-4.8.0.74-cp37-abi3-manylinux_2_17_x86_64.manylinux2014_x86_64.whl (49.1 MB)\n",
            "\u001b[2K     \u001b[90m━━━━━━━━━━━━━━━━━━━━━━━━━━━━━━━━━━━━━━━━\u001b[0m \u001b[32m49.1/49.1 MB\u001b[0m \u001b[31m16.2 MB/s\u001b[0m eta \u001b[36m0:00:00\u001b[0m\n",
            "\u001b[?25hRequirement already satisfied: Pillow>=7.1.2 in /usr/local/lib/python3.10/dist-packages (from roboflow) (9.4.0)\n",
            "Requirement already satisfied: python-dateutil in /usr/local/lib/python3.10/dist-packages (from roboflow) (2.8.2)\n",
            "Collecting python-dotenv (from roboflow)\n",
            "  Downloading python_dotenv-1.0.1-py3-none-any.whl (19 kB)\n",
            "Requirement already satisfied: requests in /usr/local/lib/python3.10/dist-packages (from roboflow) (2.31.0)\n",
            "Requirement already satisfied: six in /usr/local/lib/python3.10/dist-packages (from roboflow) (1.16.0)\n",
            "Requirement already satisfied: urllib3>=1.26.6 in /usr/local/lib/python3.10/dist-packages (from roboflow) (2.0.7)\n",
            "Requirement already satisfied: tqdm>=4.41.0 in /usr/local/lib/python3.10/dist-packages (from roboflow) (4.66.4)\n",
            "Requirement already satisfied: PyYAML>=5.3.1 in /usr/local/lib/python3.10/dist-packages (from roboflow) (6.0.1)\n",
            "Collecting requests-toolbelt (from roboflow)\n",
            "  Downloading requests_toolbelt-1.0.0-py2.py3-none-any.whl (54 kB)\n",
            "\u001b[2K     \u001b[90m━━━━━━━━━━━━━━━━━━━━━━━━━━━━━━━━━━━━━━━━\u001b[0m \u001b[32m54.5/54.5 kB\u001b[0m \u001b[31m8.5 MB/s\u001b[0m eta \u001b[36m0:00:00\u001b[0m\n",
            "\u001b[?25hCollecting python-magic (from roboflow)\n",
            "  Downloading python_magic-0.4.27-py2.py3-none-any.whl (13 kB)\n",
            "Requirement already satisfied: contourpy>=1.0.1 in /usr/local/lib/python3.10/dist-packages (from matplotlib->roboflow) (1.2.1)\n",
            "Requirement already satisfied: fonttools>=4.22.0 in /usr/local/lib/python3.10/dist-packages (from matplotlib->roboflow) (4.52.4)\n",
            "Requirement already satisfied: packaging>=20.0 in /usr/local/lib/python3.10/dist-packages (from matplotlib->roboflow) (24.0)\n",
            "Requirement already satisfied: pyparsing>=2.3.1 in /usr/local/lib/python3.10/dist-packages (from matplotlib->roboflow) (3.1.2)\n",
            "Requirement already satisfied: charset-normalizer<4,>=2 in /usr/local/lib/python3.10/dist-packages (from requests->roboflow) (3.3.2)\n",
            "\u001b[33mWARNING: The candidate selected for download or install is a yanked version: 'opencv-python-headless' candidate (version 4.8.0.74 at https://files.pythonhosted.org/packages/76/02/f128517f3ade4bb5f71e2afd8461dba70e3f466ce745fa1fd1fade9ad1b7/opencv_python_headless-4.8.0.74-cp37-abi3-manylinux_2_17_x86_64.manylinux2014_x86_64.whl (from https://pypi.org/simple/opencv-python-headless/) (requires-python:>=3.6))\n",
            "Reason for being yanked: deprecated, use 4.8.0.76\u001b[0m\u001b[33m\n",
            "\u001b[0mInstalling collected packages: python-magic, python-dotenv, opencv-python-headless, idna, cycler, chardet, certifi, requests-toolbelt, roboflow\n",
            "  Attempting uninstall: opencv-python-headless\n",
            "    Found existing installation: opencv-python-headless 4.9.0.80\n",
            "    Uninstalling opencv-python-headless-4.9.0.80:\n",
            "      Successfully uninstalled opencv-python-headless-4.9.0.80\n",
            "  Attempting uninstall: idna\n",
            "    Found existing installation: idna 3.7\n",
            "    Uninstalling idna-3.7:\n",
            "      Successfully uninstalled idna-3.7\n",
            "  Attempting uninstall: cycler\n",
            "    Found existing installation: cycler 0.12.1\n",
            "    Uninstalling cycler-0.12.1:\n",
            "      Successfully uninstalled cycler-0.12.1\n",
            "  Attempting uninstall: chardet\n",
            "    Found existing installation: chardet 5.2.0\n",
            "    Uninstalling chardet-5.2.0:\n",
            "      Successfully uninstalled chardet-5.2.0\n",
            "  Attempting uninstall: certifi\n",
            "    Found existing installation: certifi 2024.2.2\n",
            "    Uninstalling certifi-2024.2.2:\n",
            "      Successfully uninstalled certifi-2024.2.2\n",
            "Successfully installed certifi-2023.7.22 chardet-4.0.0 cycler-0.10.0 idna-2.10 opencv-python-headless-4.8.0.74 python-dotenv-1.0.1 python-magic-0.4.27 requests-toolbelt-1.0.0 roboflow-1.1.30\n"
          ]
        },
        {
          "output_type": "display_data",
          "data": {
            "application/vnd.colab-display-data+json": {
              "pip_warning": {
                "packages": [
                  "certifi",
                  "chardet",
                  "cv2",
                  "cycler",
                  "idna"
                ]
              },
              "id": "17be82d61b144812974373bac54f2ff4"
            }
          },
          "metadata": {}
        },
        {
          "output_type": "stream",
          "name": "stdout",
          "text": [
            "loading Roboflow workspace...\n",
            "loading Roboflow project...\n",
            "Dependency ultralytics==8.0.196 is required but found version=8.2.28, to fix: `pip install ultralytics==8.0.196`\n"
          ]
        },
        {
          "output_type": "stream",
          "name": "stderr",
          "text": [
            "Downloading Dataset Version Zip in Shellfish-OpenImages-1 to yolov8:: 100%|██████████| 16532/16532 [00:00<00:00, 26812.65it/s]"
          ]
        },
        {
          "output_type": "stream",
          "name": "stdout",
          "text": [
            "\n"
          ]
        },
        {
          "output_type": "stream",
          "name": "stderr",
          "text": [
            "\n",
            "Extracting Dataset Version Zip to Shellfish-OpenImages-1 in yolov8:: 100%|██████████| 1172/1172 [00:00<00:00, 7724.80it/s]\n"
          ]
        }
      ],
      "source": [
        "#importação de um dataset já com as labels\n",
        "!pip install roboflow\n",
        "\n",
        "from roboflow import Roboflow\n",
        "rf = Roboflow(api_key=\"djEFqvndmNUXnLdlt13z\")\n",
        "project = rf.workspace(\"jacob-solawetz\").project(\"shellfish-openimages\")\n",
        "version = project.version(1)\n",
        "dataset = version.download(\"yolov8\")"
      ]
    },
    {
      "cell_type": "code",
      "execution_count": null,
      "metadata": {
        "colab": {
          "base_uri": "https://localhost:8080/"
        },
        "id": "8VReUwZsLAET",
        "outputId": "c7ab6f9a-9efd-4720-db60-78ee023ea123"
      },
      "outputs": [
        {
          "output_type": "stream",
          "name": "stdout",
          "text": [
            "Ultralytics YOLOv8.2.28 🚀 Python-3.10.12 torch-2.3.0+cu121 CPU (AMD EPYC 7B12)\n",
            "\u001b[34m\u001b[1mengine/trainer: \u001b[0mtask=detect, mode=train, model=yolov8s.pt, data=/content/Shellfish-OpenImages-1/data.yaml, epochs=5, time=None, patience=100, batch=16, imgsz=640, save=True, save_period=-1, cache=False, device=None, workers=8, project=None, name=train2, exist_ok=False, pretrained=True, optimizer=auto, verbose=True, seed=0, deterministic=True, single_cls=False, rect=False, cos_lr=False, close_mosaic=10, resume=False, amp=True, fraction=1.0, profile=False, freeze=None, multi_scale=False, overlap_mask=True, mask_ratio=4, dropout=0.0, val=True, split=val, save_json=False, save_hybrid=False, conf=None, iou=0.7, max_det=300, half=False, dnn=False, plots=True, source=None, vid_stride=1, stream_buffer=False, visualize=False, augment=False, agnostic_nms=False, classes=None, retina_masks=False, embed=None, show=False, save_frames=False, save_txt=False, save_conf=False, save_crop=False, show_labels=True, show_conf=True, show_boxes=True, line_width=None, format=torchscript, keras=False, optimize=False, int8=False, dynamic=False, simplify=False, opset=None, workspace=4, nms=False, lr0=0.01, lrf=0.01, momentum=0.937, weight_decay=0.0005, warmup_epochs=3.0, warmup_momentum=0.8, warmup_bias_lr=0.1, box=7.5, cls=0.5, dfl=1.5, pose=12.0, kobj=1.0, label_smoothing=0.0, nbs=64, hsv_h=0.015, hsv_s=0.7, hsv_v=0.4, degrees=0.0, translate=0.1, scale=0.5, shear=0.0, perspective=0.0, flipud=0.0, fliplr=0.5, bgr=0.0, mosaic=1.0, mixup=0.0, copy_paste=0.0, auto_augment=randaugment, erasing=0.4, crop_fraction=1.0, cfg=None, tracker=botsort.yaml, save_dir=runs/detect/train2\n",
            "Downloading https://ultralytics.com/assets/Arial.ttf to '/root/.config/Ultralytics/Arial.ttf'...\n",
            "100% 755k/755k [00:00<00:00, 23.2MB/s]\n",
            "Overriding model.yaml nc=80 with nc=3\n",
            "\n",
            "                   from  n    params  module                                       arguments                     \n",
            "  0                  -1  1       928  ultralytics.nn.modules.conv.Conv             [3, 32, 3, 2]                 \n",
            "  1                  -1  1     18560  ultralytics.nn.modules.conv.Conv             [32, 64, 3, 2]                \n",
            "  2                  -1  1     29056  ultralytics.nn.modules.block.C2f             [64, 64, 1, True]             \n",
            "  3                  -1  1     73984  ultralytics.nn.modules.conv.Conv             [64, 128, 3, 2]               \n",
            "  4                  -1  2    197632  ultralytics.nn.modules.block.C2f             [128, 128, 2, True]           \n",
            "  5                  -1  1    295424  ultralytics.nn.modules.conv.Conv             [128, 256, 3, 2]              \n",
            "  6                  -1  2    788480  ultralytics.nn.modules.block.C2f             [256, 256, 2, True]           \n",
            "  7                  -1  1   1180672  ultralytics.nn.modules.conv.Conv             [256, 512, 3, 2]              \n",
            "  8                  -1  1   1838080  ultralytics.nn.modules.block.C2f             [512, 512, 1, True]           \n",
            "  9                  -1  1    656896  ultralytics.nn.modules.block.SPPF            [512, 512, 5]                 \n",
            " 10                  -1  1         0  torch.nn.modules.upsampling.Upsample         [None, 2, 'nearest']          \n",
            " 11             [-1, 6]  1         0  ultralytics.nn.modules.conv.Concat           [1]                           \n",
            " 12                  -1  1    591360  ultralytics.nn.modules.block.C2f             [768, 256, 1]                 \n",
            " 13                  -1  1         0  torch.nn.modules.upsampling.Upsample         [None, 2, 'nearest']          \n",
            " 14             [-1, 4]  1         0  ultralytics.nn.modules.conv.Concat           [1]                           \n",
            " 15                  -1  1    148224  ultralytics.nn.modules.block.C2f             [384, 128, 1]                 \n",
            " 16                  -1  1    147712  ultralytics.nn.modules.conv.Conv             [128, 128, 3, 2]              \n",
            " 17            [-1, 12]  1         0  ultralytics.nn.modules.conv.Concat           [1]                           \n",
            " 18                  -1  1    493056  ultralytics.nn.modules.block.C2f             [384, 256, 1]                 \n",
            " 19                  -1  1    590336  ultralytics.nn.modules.conv.Conv             [256, 256, 3, 2]              \n",
            " 20             [-1, 9]  1         0  ultralytics.nn.modules.conv.Concat           [1]                           \n",
            " 21                  -1  1   1969152  ultralytics.nn.modules.block.C2f             [768, 512, 1]                 \n",
            " 22        [15, 18, 21]  1   2117209  ultralytics.nn.modules.head.Detect           [3, [128, 256, 512]]          \n",
            "Model summary: 225 layers, 11136761 parameters, 11136745 gradients, 28.7 GFLOPs\n",
            "\n",
            "Transferred 349/355 items from pretrained weights\n",
            "\u001b[34m\u001b[1mTensorBoard: \u001b[0mStart with 'tensorboard --logdir runs/detect/train2', view at http://localhost:6006/\n",
            "Freezing layer 'model.22.dfl.conv.weight'\n",
            "\u001b[34m\u001b[1mtrain: \u001b[0mScanning /content/Shellfish-OpenImages-1/train/labels... 406 images, 0 backgrounds, 0 corrupt: 100% 406/406 [00:00<00:00, 2452.37it/s]\n",
            "\u001b[34m\u001b[1mtrain: \u001b[0mNew cache created: /content/Shellfish-OpenImages-1/train/labels.cache\n",
            "\u001b[34m\u001b[1malbumentations: \u001b[0mBlur(p=0.01, blur_limit=(3, 7)), MedianBlur(p=0.01, blur_limit=(3, 7)), ToGray(p=0.01), CLAHE(p=0.01, clip_limit=(1, 4.0), tile_grid_size=(8, 8))\n",
            "\u001b[34m\u001b[1mval: \u001b[0mScanning /content/Shellfish-OpenImages-1/valid/labels... 116 images, 0 backgrounds, 0 corrupt: 100% 116/116 [00:00<00:00, 2792.24it/s]\n",
            "\u001b[34m\u001b[1mval: \u001b[0mNew cache created: /content/Shellfish-OpenImages-1/valid/labels.cache\n",
            "Plotting labels to runs/detect/train2/labels.jpg... \n",
            "\u001b[34m\u001b[1moptimizer:\u001b[0m 'optimizer=auto' found, ignoring 'lr0=0.01' and 'momentum=0.937' and determining best 'optimizer', 'lr0' and 'momentum' automatically... \n",
            "\u001b[34m\u001b[1moptimizer:\u001b[0m AdamW(lr=0.001429, momentum=0.9) with parameter groups 57 weight(decay=0.0), 64 weight(decay=0.0005), 63 bias(decay=0.0)\n",
            "\u001b[34m\u001b[1mTensorBoard: \u001b[0mmodel graph visualization added ✅\n",
            "Image sizes 640 train, 640 val\n",
            "Using 0 dataloader workers\n",
            "Logging results to \u001b[1mruns/detect/train2\u001b[0m\n",
            "Starting training for 5 epochs...\n",
            "\n",
            "      Epoch    GPU_mem   box_loss   cls_loss   dfl_loss  Instances       Size\n",
            "        1/5         0G      1.328      2.641      1.613         31        640: 100% 26/26 [10:34<00:00, 24.41s/it]\n",
            "                 Class     Images  Instances      Box(P          R      mAP50  mAP50-95): 100% 4/4 [01:03<00:00, 15.85s/it]\n",
            "                   all        116        240      0.309       0.33      0.216      0.101\n",
            "\n",
            "      Epoch    GPU_mem   box_loss   cls_loss   dfl_loss  Instances       Size\n",
            "        2/5         0G      1.314       2.27      1.635         20        640: 100% 26/26 [10:30<00:00, 24.25s/it]\n",
            "                 Class     Images  Instances      Box(P          R      mAP50  mAP50-95): 100% 4/4 [01:01<00:00, 15.41s/it]\n",
            "                   all        116        240      0.264      0.272      0.189     0.0813\n",
            "\n",
            "      Epoch    GPU_mem   box_loss   cls_loss   dfl_loss  Instances       Size\n",
            "        3/5         0G      1.366      2.115      1.638         19        640: 100% 26/26 [10:28<00:00, 24.16s/it]\n",
            "                 Class     Images  Instances      Box(P          R      mAP50  mAP50-95): 100% 4/4 [00:58<00:00, 14.67s/it]\n",
            "                   all        116        240      0.133      0.225     0.0951     0.0391\n",
            "\n",
            "      Epoch    GPU_mem   box_loss   cls_loss   dfl_loss  Instances       Size\n",
            "        4/5         0G      1.344      2.092      1.646         29        640: 100% 26/26 [10:41<00:00, 24.68s/it]\n",
            "                 Class     Images  Instances      Box(P          R      mAP50  mAP50-95): 100% 4/4 [01:02<00:00, 15.54s/it]\n",
            "                   all        116        240      0.305      0.238      0.174      0.077\n",
            "\n",
            "      Epoch    GPU_mem   box_loss   cls_loss   dfl_loss  Instances       Size\n",
            "        5/5         0G      1.291      1.897      1.598         21        640: 100% 26/26 [10:38<00:00, 24.57s/it]\n",
            "                 Class     Images  Instances      Box(P          R      mAP50  mAP50-95): 100% 4/4 [01:02<00:00, 15.74s/it]\n",
            "                   all        116        240      0.284      0.406      0.265      0.117\n",
            "\n",
            "5 epochs completed in 0.971 hours.\n",
            "Optimizer stripped from runs/detect/train2/weights/last.pt, 22.5MB\n",
            "Optimizer stripped from runs/detect/train2/weights/best.pt, 22.5MB\n",
            "\n",
            "Validating runs/detect/train2/weights/best.pt...\n",
            "Ultralytics YOLOv8.2.28 🚀 Python-3.10.12 torch-2.3.0+cu121 CPU (AMD EPYC 7B12)\n",
            "Model summary (fused): 168 layers, 11126745 parameters, 0 gradients, 28.4 GFLOPs\n",
            "                 Class     Images  Instances      Box(P          R      mAP50  mAP50-95): 100% 4/4 [01:01<00:00, 15.34s/it]\n",
            "                   all        116        240      0.286      0.406      0.264      0.117\n",
            "                  Crab         34         44      0.198      0.227      0.206     0.0767\n",
            "               Lobster         41         60      0.272       0.55      0.267      0.119\n",
            "                Shrimp         41        136      0.387      0.441       0.32      0.157\n",
            "Speed: 2.4ms preprocess, 510.1ms inference, 0.0ms loss, 0.5ms postprocess per image\n",
            "Results saved to \u001b[1mruns/detect/train2\u001b[0m\n",
            "💡 Learn more at https://docs.ultralytics.com/modes/train\n"
          ]
        }
      ],
      "source": [
        "#treinamento do yolo utilizando a CLI\n",
        "!yolo task=detect \\\n",
        "mode=train \\\n",
        "model=yolov8s.pt \\\n",
        "data=/content/Shellfish-OpenImages-1/data.yaml \\\n",
        "epochs=5 \\\n",
        "imgsz=640"
      ]
    },
    {
      "cell_type": "code",
      "execution_count": null,
      "metadata": {
        "id": "w4-Jqvt1L0Xs",
        "colab": {
          "base_uri": "https://localhost:8080/"
        },
        "outputId": "8174c7aa-ba16-493d-874e-c99f6361e343"
      },
      "outputs": [
        {
          "output_type": "stream",
          "name": "stdout",
          "text": [
            "Ultralytics YOLOv8.2.28 🚀 Python-3.10.12 torch-2.3.0+cu121 CPU (AMD EPYC 7B12)\n",
            "Model summary (fused): 168 layers, 11126745 parameters, 0 gradients, 28.4 GFLOPs\n",
            "\n",
            "image 1/58 /content/Shellfish-OpenImages-1/test/images/00a786d0c96774a0_jpg.rf.8c23a80cb4b3c6aa1af13d89f18bf373.jpg: 320x320 1 Lobster, 143.6ms\n",
            "image 2/58 /content/Shellfish-OpenImages-1/test/images/0186f92cb40b91db_jpg.rf.dba1cb5b631eaeca9845fe17d2d4d38a.jpg: 320x320 1 Crab, 111.0ms\n",
            "image 3/58 /content/Shellfish-OpenImages-1/test/images/02d568e57b20dc5d_jpg.rf.ead7348006d0d104166db38c2ffbc716.jpg: 320x320 2 Shrimps, 111.6ms\n",
            "image 4/58 /content/Shellfish-OpenImages-1/test/images/0404692505ed6af5_jpg.rf.144fca437fb4fdba87b4f178577254ec.jpg: 320x320 1 Crab, 107.2ms\n",
            "image 5/58 /content/Shellfish-OpenImages-1/test/images/0a24c8b0681a4012_jpg.rf.37e673fa83cb1afcd2cd9817526905c8.jpg: 320x320 13 Shrimps, 107.7ms\n",
            "image 6/58 /content/Shellfish-OpenImages-1/test/images/0e1e288447043e50_jpg.rf.48ea6741d43d49508dbe80bb084d88d8.jpg: 320x320 1 Lobster, 119.3ms\n",
            "image 7/58 /content/Shellfish-OpenImages-1/test/images/0e9c54db3eb40e54_jpg.rf.7a3e5669bfa7221e86cd2206c644f176.jpg: 320x320 1 Shrimp, 123.8ms\n",
            "image 8/58 /content/Shellfish-OpenImages-1/test/images/0f7b0b4a0d30af51_jpg.rf.1832d5b9caf70d7789ba5fb21ee0e892.jpg: 320x320 2 Crabs, 126.1ms\n",
            "image 9/58 /content/Shellfish-OpenImages-1/test/images/117b852e120c176c_jpg.rf.77ae07d36ebbf2d91424fabbd1a1befb.jpg: 320x320 2 Shrimps, 119.9ms\n",
            "image 10/58 /content/Shellfish-OpenImages-1/test/images/16d48f99aea7bb1c_jpg.rf.178d037ead17ccd0814166050f493642.jpg: 320x320 2 Lobsters, 121.9ms\n",
            "image 11/58 /content/Shellfish-OpenImages-1/test/images/16edaa981fe09854_jpg.rf.78b84b6af88c32aae8fcae8c4feaf9c2.jpg: 320x320 6 Shrimps, 120.3ms\n",
            "image 12/58 /content/Shellfish-OpenImages-1/test/images/209087eb38b3893c_jpg.rf.af9f468824a349b718e5641768068310.jpg: 320x320 1 Shrimp, 126.3ms\n",
            "image 13/58 /content/Shellfish-OpenImages-1/test/images/26620fee4eb9c779_jpg.rf.27240a280466579d8c200e5b0a4cf566.jpg: 320x320 (no detections), 111.9ms\n",
            "image 14/58 /content/Shellfish-OpenImages-1/test/images/2a303101daa3bc9f_jpg.rf.bc6f2b8f1eab351571257d294d1304d8.jpg: 320x320 11 Shrimps, 122.9ms\n",
            "image 15/58 /content/Shellfish-OpenImages-1/test/images/2dff58a301e493e5_jpg.rf.56f2e4872eea6343938b6a48374bfec9.jpg: 320x320 1 Lobster, 120.5ms\n",
            "image 16/58 /content/Shellfish-OpenImages-1/test/images/2f4512176b382842_jpg.rf.426f3383cabefbb9f5954d451c745731.jpg: 320x320 2 Shrimps, 121.2ms\n",
            "image 17/58 /content/Shellfish-OpenImages-1/test/images/307d0ee1218ec90d_jpg.rf.4eb979d48f4810e64eda617e1556930c.jpg: 320x320 (no detections), 121.5ms\n",
            "image 18/58 /content/Shellfish-OpenImages-1/test/images/346e7bb49a7abc6e_jpg.rf.d1055bf344d68f327fdc46f97c8a7a3b.jpg: 320x320 1 Crab, 123.4ms\n",
            "image 19/58 /content/Shellfish-OpenImages-1/test/images/383faac28ac0521d_jpg.rf.de7aa352dbefd104c3f00bf35f897841.jpg: 320x320 1 Crab, 121.8ms\n",
            "image 20/58 /content/Shellfish-OpenImages-1/test/images/384ea97d9f66df64_jpg.rf.cbdefc9b798d222232e5d0f50cdb8d4a.jpg: 320x320 1 Lobster, 113.5ms\n",
            "image 21/58 /content/Shellfish-OpenImages-1/test/images/3bb3fc1b43cba626_jpg.rf.e10e2f11a8ecd27345b712116dbd950d.jpg: 320x320 1 Crab, 1 Lobster, 115.0ms\n",
            "image 22/58 /content/Shellfish-OpenImages-1/test/images/3e8bf4762cb2e754_jpg.rf.78e1bd854a07b82535d32faa69386905.jpg: 320x320 4 Shrimps, 117.9ms\n",
            "image 23/58 /content/Shellfish-OpenImages-1/test/images/3f585c2908250b1b_jpg.rf.0580f031e1b699faf72a9b628cd8fa1e.jpg: 320x320 2 Shrimps, 110.4ms\n",
            "image 24/58 /content/Shellfish-OpenImages-1/test/images/40ed68d1075c9f4d_jpg.rf.c7242550e816b146506ec810bfdb108f.jpg: 320x320 (no detections), 113.7ms\n",
            "image 25/58 /content/Shellfish-OpenImages-1/test/images/410e5f9fef04eac3_jpg.rf.f34a688eca4b0487a991641ad93bf4ac.jpg: 320x320 2 Lobsters, 107.8ms\n",
            "image 26/58 /content/Shellfish-OpenImages-1/test/images/41648d746cf9fbb2_jpg.rf.4cc0faf9b28fc43f7ea2dbc428a5bbfd.jpg: 320x320 4 Shrimps, 108.0ms\n",
            "image 27/58 /content/Shellfish-OpenImages-1/test/images/435f1ea8a9408624_jpg.rf.58df6caabb67fa795e5a4a8144786fc0.jpg: 320x320 7 Shrimps, 108.6ms\n",
            "image 28/58 /content/Shellfish-OpenImages-1/test/images/4447a19834fde9da_jpg.rf.46528bd12420394658f54bdde89ec6c1.jpg: 320x320 1 Crab, 1 Lobster, 113.0ms\n",
            "image 29/58 /content/Shellfish-OpenImages-1/test/images/461b9cf435446a25_jpg.rf.7f1340856010bc5de621d3562dc55548.jpg: 320x320 1 Lobster, 106.3ms\n",
            "image 30/58 /content/Shellfish-OpenImages-1/test/images/580cba376532375c_jpg.rf.81c62d14ef5ef30143a226ab4d752ae7.jpg: 320x320 1 Crab, 108.2ms\n",
            "image 31/58 /content/Shellfish-OpenImages-1/test/images/5df7fe2f340ff694_jpg.rf.f662f3de24a3479641b7b9b11d511490.jpg: 320x320 1 Crab, 1 Lobster, 125.1ms\n",
            "image 32/58 /content/Shellfish-OpenImages-1/test/images/5f4ef6933c619d6e_jpg.rf.7b5267ab86b6487fc4e40a63558c61be.jpg: 320x320 1 Lobster, 123.1ms\n",
            "image 33/58 /content/Shellfish-OpenImages-1/test/images/65b0e60c339b0937_jpg.rf.f5957f9e0fe8463f36d3eb459a3daf19.jpg: 320x320 1 Shrimp, 121.4ms\n",
            "image 34/58 /content/Shellfish-OpenImages-1/test/images/698830b5e2662fd6_jpg.rf.ec6dba73abf7b473f07c5cd5236c37b2.jpg: 320x320 1 Shrimp, 120.6ms\n",
            "image 35/58 /content/Shellfish-OpenImages-1/test/images/718b1b08d771ddd1_jpg.rf.474a837c979312afc0de6c2e3e02a5ea.jpg: 320x320 (no detections), 116.8ms\n",
            "image 36/58 /content/Shellfish-OpenImages-1/test/images/770c1efb40e3fca8_jpg.rf.97cabfc6b6be173df6fdcf14c8c4431c.jpg: 320x320 1 Shrimp, 128.8ms\n",
            "image 37/58 /content/Shellfish-OpenImages-1/test/images/78a9df6e549b41ae_jpg.rf.77f619e6f4b6c7afed08ce6b6619d675.jpg: 320x320 1 Lobster, 121.2ms\n",
            "image 38/58 /content/Shellfish-OpenImages-1/test/images/7abc6e3fbb59f15a_jpg.rf.f4c59f99b18cf520e3480d56ef77bdaf.jpg: 320x320 3 Shrimps, 120.2ms\n",
            "image 39/58 /content/Shellfish-OpenImages-1/test/images/7dace5a8f4cdd464_jpg.rf.5a84c405e7cbf0774576ec40f7c6ed5f.jpg: 320x320 1 Lobster, 119.7ms\n",
            "image 40/58 /content/Shellfish-OpenImages-1/test/images/7e0167c96d078633_jpg.rf.d05808326e645ecfa7251f001f931a64.jpg: 320x320 2 Crabs, 124.2ms\n",
            "image 41/58 /content/Shellfish-OpenImages-1/test/images/81656ab67371a1ad_jpg.rf.5b57a4129b97c60cb3c16a695299a94a.jpg: 320x320 (no detections), 115.3ms\n",
            "image 42/58 /content/Shellfish-OpenImages-1/test/images/956a93161cf01143_jpg.rf.0f68ff0766c6ba15d221c2553125a7a7.jpg: 320x320 2 Lobsters, 115.7ms\n",
            "image 43/58 /content/Shellfish-OpenImages-1/test/images/97ae08b3f7bc4901_jpg.rf.71cb4f114dad562b7f0b185ee42e9f4d.jpg: 320x320 1 Crab, 110.7ms\n",
            "image 44/58 /content/Shellfish-OpenImages-1/test/images/980949bd9743bb5a_jpg.rf.ac3e2c8c3d2fcb5e24e904f8f3f82b60.jpg: 320x320 1 Crab, 118.5ms\n",
            "image 45/58 /content/Shellfish-OpenImages-1/test/images/9a0d307a0bbc7488_jpg.rf.dda267b8f39dd8d6871a7d14788da533.jpg: 320x320 2 Crabs, 113.1ms\n",
            "image 46/58 /content/Shellfish-OpenImages-1/test/images/9a96080ad5a383bd_jpg.rf.d9a6e18fafdd28f518a93bd3a7148aa0.jpg: 320x320 9 Shrimps, 128.1ms\n",
            "image 47/58 /content/Shellfish-OpenImages-1/test/images/b369f579a688974a_jpg.rf.bfa4d53f186a71bdad34576937cd1107.jpg: 320x320 2 Lobsters, 112.4ms\n",
            "image 48/58 /content/Shellfish-OpenImages-1/test/images/c0843ac85f9b23c7_jpg.rf.aaa23963d83e0f2fccb3369f2f1f774e.jpg: 320x320 5 Shrimps, 113.2ms\n",
            "image 49/58 /content/Shellfish-OpenImages-1/test/images/c49daf0093f0f092_jpg.rf.44f8f53ca5969d07e440919bd5363a39.jpg: 320x320 1 Lobster, 112.9ms\n",
            "image 50/58 /content/Shellfish-OpenImages-1/test/images/c88539ad12b63812_jpg.rf.d8e7838ad7177f4beebe6b238801a40c.jpg: 320x320 4 Shrimps, 114.5ms\n",
            "image 51/58 /content/Shellfish-OpenImages-1/test/images/c97e42052d8dcd06_jpg.rf.db2a84127e4a576a3735d0c8a4eb942a.jpg: 320x320 13 Shrimps, 109.5ms\n",
            "image 52/58 /content/Shellfish-OpenImages-1/test/images/d0fc8bd09695be63_jpg.rf.b85cfda4cadd182733507cd1e8670e22.jpg: 320x320 1 Crab, 1 Lobster, 116.0ms\n",
            "image 53/58 /content/Shellfish-OpenImages-1/test/images/d6dffccdedb3f4dd_jpg.rf.8b69ab274506cd00a4b45ece429d5c5c.jpg: 320x320 1 Shrimp, 106.9ms\n",
            "image 54/58 /content/Shellfish-OpenImages-1/test/images/e0325cc3348cc1dc_jpg.rf.f740c9a674de5efa48d3dee7a0bc8fda.jpg: 320x320 2 Shrimps, 107.6ms\n",
            "image 55/58 /content/Shellfish-OpenImages-1/test/images/e74cb50659aa4f9a_jpg.rf.16721cba8272eaf98551c37c04cbb798.jpg: 320x320 (no detections), 111.6ms\n",
            "image 56/58 /content/Shellfish-OpenImages-1/test/images/e96ed9f8e5c91db8_jpg.rf.9ab0783806f9c20ec02ea2a0ca43c350.jpg: 320x320 1 Lobster, 107.0ms\n",
            "image 57/58 /content/Shellfish-OpenImages-1/test/images/f1c20ab1acb0c64f_jpg.rf.e04253575d8b6a2fadb50a817041d500.jpg: 320x320 1 Lobster, 118.6ms\n",
            "image 58/58 /content/Shellfish-OpenImages-1/test/images/f9a45fac92723261_jpg.rf.95b89932267a5b8b09bfd9c0034eb60c.jpg: 320x320 2 Crabs, 111.5ms\n",
            "Speed: 0.8ms preprocess, 116.7ms inference, 0.6ms postprocess per image at shape (1, 3, 320, 320)\n",
            "Results saved to \u001b[1mruns/detect/predict3\u001b[0m\n",
            "💡 Learn more at https://docs.ultralytics.com/modes/predict\n"
          ]
        }
      ],
      "source": [
        "#teste utilizando o modelo já treinado\n",
        "!yolo predict model=/content/runs/detect/train2/weights/best.pt source=/content/Shellfish-OpenImages-1/test/images imgsz=320"
      ]
    },
    {
      "cell_type": "code",
      "source": [],
      "metadata": {
        "id": "FwFWvTyjueLR"
      },
      "execution_count": null,
      "outputs": []
    }
  ],
  "metadata": {
    "colab": {
      "provenance": [],
      "authorship_tag": "ABX9TyM8vLJtpNpULuHALJL2zQ/I",
      "include_colab_link": true
    },
    "kernelspec": {
      "display_name": "Python 3",
      "name": "python3"
    },
    "language_info": {
      "name": "python"
    }
  },
  "nbformat": 4,
  "nbformat_minor": 0
}